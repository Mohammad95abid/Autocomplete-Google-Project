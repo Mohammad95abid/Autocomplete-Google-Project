{
  "nbformat": 4,
  "nbformat_minor": 0,
  "metadata": {
    "colab": {
      "name": "Autocomplete-GoogleProject.ipynb",
      "provenance": [],
      "collapsed_sections": []
    },
    "kernelspec": {
      "name": "python3",
      "display_name": "Python 3"
    },
    "accelerator": "GPU"
  },
  "cells": [
    {
      "cell_type": "code",
      "metadata": {
        "id": "ZjjDdiFN9Nw4"
      },
      "source": [
        "from google.colab import drive\r\n",
        "drive.mount('/content/drive')"
      ],
      "execution_count": null,
      "outputs": []
    },
    {
      "cell_type": "code",
      "metadata": {
        "id": "afpOlLXl84dL"
      },
      "source": [
        "!ls \"/content/drive/My Drive/resources\""
      ],
      "execution_count": null,
      "outputs": []
    },
    {
      "cell_type": "code",
      "metadata": {
        "colab": {
          "base_uri": "https://localhost:8080/",
          "height": 35
        },
        "id": "TdOD7C_c9aBn",
        "outputId": "67cf30fe-d021-43ff-9109-6d2d005de950"
      },
      "source": [
        "%reload_ext autoreload\r\n",
        "%autoreload 2\r\n",
        "%autosave 120\r\n",
        "%matplotlib inline\r\n",
        "import os\r\n",
        "import string\r\n",
        "import re\r\n",
        "import pickle\r\n",
        "import json\r\n",
        "\r\n",
        "root = '/content/drive/My Drive/Google Project'\r\n",
        "resources_dir = root + \"/resources\"\r\n",
        "pkl_files_dir = root + \"/pkl_files\"\r\n",
        "files_directories_dir = root + \"/files_directories.json\"\r\n"
      ],
      "execution_count": null,
      "outputs": [
        {
          "output_type": "display_data",
          "data": {
            "application/javascript": [
              "IPython.notebook.set_autosave_interval(120000)"
            ]
          },
          "metadata": {
            "tags": []
          }
        },
        {
          "output_type": "stream",
          "text": [
            "Autosaving every 120 seconds\n"
          ],
          "name": "stdout"
        }
      ]
    },
    {
      "cell_type": "code",
      "metadata": {
        "id": "ADV7Www5_vuR"
      },
      "source": [
        "allowed_chars = list(string.ascii_lowercase) + list(string.ascii_uppercase)\r\n",
        "allowed_chars += [ str(d) for d in range( 10 ) ] + [' ']\r\n",
        "\r\n",
        "def get_alphanumeric( line: str ):\r\n",
        "  result = \"\"\r\n",
        "  for ch in line:\r\n",
        "    if ch in allowed_chars:\r\n",
        "      result += ch\r\n",
        "  result = re.sub(' +', ' ', result)\r\n",
        "  return result.casefold( )"
      ],
      "execution_count": null,
      "outputs": []
    },
    {
      "cell_type": "code",
      "metadata": {
        "id": "dwBNMm3y_RBI"
      },
      "source": [
        "def pickle_tree(file_name:str, tree: dict) -> None:\r\n",
        "  file_path = pkl_files_dir + \"/\" + file_name\r\n",
        "  outfile = open(file_path,'wb')\r\n",
        "  pickle.dump(tree, outfile)\r\n",
        "  outfile.close()\r\n",
        "\r\n",
        "def unpickle_tree(file_name:str) -> dict:\r\n",
        "  file_path = pkl_files_dir + \"/\" + file_name\r\n",
        "  infile = open(file_path,'rb')\r\n",
        "  tree = pickle.load(infile)\r\n",
        "  infile.close()\r\n",
        "  return tree\r\n"
      ],
      "execution_count": null,
      "outputs": []
    },
    {
      "cell_type": "code",
      "metadata": {
        "id": "P3hlZjT1S_LW"
      },
      "source": [
        "def add( root: dict, prefix: str, file_id: str ) -> None:\r\n",
        "    current_node = root\r\n",
        "    i = 0\r\n",
        "    prefix_length = len(prefix)\r\n",
        "    if prefix_length <= 0:\r\n",
        "        return\r\n",
        "\r\n",
        "    if not prefix.endswith( \"\\n\" ):\r\n",
        "        prefix += \"\\n\"\r\n",
        "        prefix_length += 1\r\n",
        "\r\n",
        "    ch = prefix[i]\r\n",
        "    while ch in current_node and i < prefix_length - 1:\r\n",
        "        current_node = current_node[ ch ]\r\n",
        "        i += 1\r\n",
        "        ch = prefix[i]\r\n",
        "\r\n",
        "    if i == prefix_length - 1:\r\n",
        "        if \"\\n\" not in current_node:\r\n",
        "            current_node[\"\\n\"] = [ ]\r\n",
        "        if file_id not in current_node[\"\\n\"]:\r\n",
        "          current_node[ \"\\n\" ].append( file_id )\r\n",
        "        return\r\n",
        "\r\n",
        "    for ch in prefix[ i: prefix_length - 1 ]:\r\n",
        "        current_node[ ch ] = { }\r\n",
        "        current_node = current_node[ ch ]\r\n",
        "    \r\n",
        "    if \"\\n\" not in current_node:\r\n",
        "          current_node[\"\\n\"] = [ ]\r\n",
        "    if file_id not in current_node[\"\\n\"]:\r\n",
        "          current_node[ \"\\n\" ].append( file_id )\r\n",
        "\r\n",
        "\r\n",
        "def get_end_sentence(cur_node, max_number, letter, sentence = \"\", suitable_sentences = set() ):\r\n",
        "    if letter == '\\n' and len( suitable_sentences ) < max_number :\r\n",
        "        suitable_sentences.add( ( sentence, cur_node[0] ) )\r\n",
        "        return suitable_sentences\r\n",
        "\r\n",
        "    for letter in cur_node:\r\n",
        "        if letter != '\\n':\r\n",
        "            temp = sentence + letter\r\n",
        "        get_end_sentence( cur_node[letter], max_number, letter, temp, suitable_sentences)\r\n",
        "\r\n",
        "        if( len( suitable_sentences ) >= max_number):\r\n",
        "            break\r\n",
        "\r\n",
        "    return suitable_sentences\r\n",
        "\r\n",
        "\r\n",
        "def search_complete_sentence( tree_index: dict, prefix: str ):\r\n",
        "    if tree_index is None:\r\n",
        "        return [ ]\r\n",
        "    cur_node = tree_index\r\n",
        "    sentence_results = set()\r\n",
        "    sentence_result = \"\"\r\n",
        "    for ch in prefix:\r\n",
        "        if ch in cur_node:\r\n",
        "            sentence_result += ch\r\n",
        "            cur_node = cur_node[ ch ]\r\n",
        "        else:\r\n",
        "            return []\r\n",
        "\r\n",
        "    if '\\n' in cur_node:\r\n",
        "        file_id = cur_node['\\n'][0]\r\n",
        "        sentence_results.add( ( sentence_result, file_id ) )\r\n",
        "\r\n",
        "    if ('\\n' in cur_node and len(cur_node) > 1) or ('\\n' not in cur_node):\r\n",
        "        for letter in cur_node:\r\n",
        "            if letter == '\\n':\r\n",
        "                continue\r\n",
        "            results = get_end_sentence( cur_node[letter], 5 - len(sentence_results), letter, sentence_result )\r\n",
        "            for res in results:\r\n",
        "                sentence_results.add( res )\r\n",
        "            if len( results ) >= 5:\r\n",
        "                break\r\n",
        "\r\n",
        "    return list(results)[:5]"
      ],
      "execution_count": null,
      "outputs": []
    },
    {
      "cell_type": "code",
      "metadata": {
        "id": "bG4kSSMK9nVX"
      },
      "source": [
        "def load_file_data(file_name: str):\r\n",
        "    result = set( )\r\n",
        "    directory_path = resources_dir + \"/\" + file_name\r\n",
        "    file_ = open(directory_path, \"r\")\r\n",
        "    lines = file_.readlines()\r\n",
        "    for line in lines:\r\n",
        "      yield line\r\n",
        "\r\n",
        "def load_files_pathes( file_path: str ):\r\n",
        "  if os.path.isfile( file_path ):\r\n",
        "        with open( file_path, 'r', encoding = \"utf-8\" ) as fp:\r\n",
        "            return json.load( fp )[\"Pathes\"]\r\n",
        "  return []\r\n",
        "\r\n",
        "def load_all_files_in_range( start: int, end: int):\r\n",
        "  files_pathes = load_files_pathes( files_directories_dir )[ start: end ]\r\n",
        "  allowed_chars = list(string.ascii_lowercase) + [ str(d) for d in range( 10 ) ]\r\n",
        "  for ch in allowed_chars:\r\n",
        "    root = { }\r\n",
        "    for i, file_path in enumerate(files_pathes):\r\n",
        "      print( f\" ------------------------------------------- i = { i } -------------------------------------\" )\r\n",
        "      for line in load_file_data( file_path ):\r\n",
        "        if line != None and line[0] == ch:\r\n",
        "          add( root, get_alphanumeric(line), str(i) )\r\n",
        "      pkl_name = ch\r\n",
        "      if pkl_name == 'i':\r\n",
        "        pkl_name = \"i0\"\r\n",
        "      pickle_tree( f\"{pkl_name}.pkl\", root )\r\n"
      ],
      "execution_count": null,
      "outputs": []
    },
    {
      "cell_type": "code",
      "metadata": {
        "id": "AAhQmY85vtUh"
      },
      "source": [
        ""
      ],
      "execution_count": null,
      "outputs": []
    }
  ]
}